{
 "cells": [
  {
   "cell_type": "code",
   "execution_count": 1,
   "id": "37c56f1c-285a-4ee2-9d46-09ebb1529c76",
   "metadata": {},
   "outputs": [],
   "source": [
    "#LIST"
   ]
  },
  {
   "cell_type": "code",
   "execution_count": 46,
   "id": "64e7e2ce-f616-40b0-b52f-bb59ff73f47b",
   "metadata": {},
   "outputs": [],
   "source": [
    "l=[1,3,\"ankkit\",1.5,True]"
   ]
  },
  {
   "cell_type": "code",
   "execution_count": 47,
   "id": "9ad9f252-779e-408e-960e-7122e55c00f7",
   "metadata": {},
   "outputs": [
    {
     "data": {
      "text/plain": [
       "list"
      ]
     },
     "execution_count": 47,
     "metadata": {},
     "output_type": "execute_result"
    }
   ],
   "source": [
    "\n",
    "type(l)"
   ]
  },
  {
   "cell_type": "code",
   "execution_count": 48,
   "id": "d32cf2e8-bcd0-4bb5-8f12-c9ce44582434",
   "metadata": {},
   "outputs": [
    {
     "data": {
      "text/plain": [
       "1"
      ]
     },
     "execution_count": 48,
     "metadata": {},
     "output_type": "execute_result"
    }
   ],
   "source": [
    "l[0]"
   ]
  },
  {
   "cell_type": "code",
   "execution_count": 49,
   "id": "52740976-4a98-403e-b78d-8dc9319a23c7",
   "metadata": {},
   "outputs": [
    {
     "data": {
      "text/plain": [
       "'ankkit'"
      ]
     },
     "execution_count": 49,
     "metadata": {},
     "output_type": "execute_result"
    }
   ],
   "source": [
    "l[2]"
   ]
  },
  {
   "cell_type": "code",
   "execution_count": 109,
   "id": "83cbc04d-b0fc-4694-8ebc-0315b005b11e",
   "metadata": {},
   "outputs": [
    {
     "data": {
      "text/plain": [
       "[1, 3, 45]"
      ]
     },
     "execution_count": 109,
     "metadata": {},
     "output_type": "execute_result"
    }
   ],
   "source": [
    "l[0:3]"
   ]
  },
  {
   "cell_type": "code",
   "execution_count": 110,
   "id": "5f4da5e6-014d-4785-9036-1adad0f57343",
   "metadata": {},
   "outputs": [
    {
     "data": {
      "text/plain": [
       "[1, 45]"
      ]
     },
     "execution_count": 110,
     "metadata": {},
     "output_type": "execute_result"
    }
   ],
   "source": [
    "l[0:4:2]"
   ]
  },
  {
   "cell_type": "code",
   "execution_count": 111,
   "id": "93b3d265-3348-4990-9bd0-57e43ff12151",
   "metadata": {},
   "outputs": [
    {
     "data": {
      "text/plain": [
       "5"
      ]
     },
     "execution_count": 111,
     "metadata": {},
     "output_type": "execute_result"
    }
   ],
   "source": [
    "l[-1]"
   ]
  },
  {
   "cell_type": "code",
   "execution_count": 112,
   "id": "3e2d29ca-b73b-4fc1-8e82-6a37f67967fa",
   "metadata": {},
   "outputs": [
    {
     "data": {
      "text/plain": [
       "[5,\n",
       " 4,\n",
       " 3,\n",
       " 't',\n",
       " 'i',\n",
       " 'k',\n",
       " 'n',\n",
       " 'a',\n",
       " ['ankit', 'ankit'],\n",
       " 5,\n",
       " True,\n",
       " 1.5,\n",
       " 'ankkit',\n",
       " 45,\n",
       " 3,\n",
       " 1]"
      ]
     },
     "execution_count": 112,
     "metadata": {},
     "output_type": "execute_result"
    }
   ],
   "source": [
    "l[::-1]"
   ]
  },
  {
   "cell_type": "code",
   "execution_count": 113,
   "id": "7e6ff2f2-a561-4b99-8121-514064afa65f",
   "metadata": {},
   "outputs": [
    {
     "data": {
      "text/plain": [
       "[1, 45, 1.5, 5, 'a', 'k', 't', 4]"
      ]
     },
     "execution_count": 113,
     "metadata": {},
     "output_type": "execute_result"
    }
   ],
   "source": [
    "l[0::2] #even"
   ]
  },
  {
   "cell_type": "code",
   "execution_count": 114,
   "id": "06681069-53d0-4718-86ae-efa507cae982",
   "metadata": {},
   "outputs": [
    {
     "data": {
      "text/plain": [
       "[1,\n",
       " 3,\n",
       " 45,\n",
       " 'ankkit',\n",
       " 1.5,\n",
       " True,\n",
       " 5,\n",
       " ['ankit', 'ankit'],\n",
       " 'a',\n",
       " 'n',\n",
       " 'k',\n",
       " 'i',\n",
       " 't',\n",
       " 3,\n",
       " 4,\n",
       " 5]"
      ]
     },
     "execution_count": 114,
     "metadata": {},
     "output_type": "execute_result"
    }
   ],
   "source": [
    "l"
   ]
  },
  {
   "cell_type": "code",
   "execution_count": 115,
   "id": "1358dab1-0b14-4ac9-9aa6-b08d0c046b39",
   "metadata": {},
   "outputs": [
    {
     "data": {
      "text/plain": [
       "45"
      ]
     },
     "execution_count": 115,
     "metadata": {},
     "output_type": "execute_result"
    }
   ],
   "source": [
    "l[2]"
   ]
  },
  {
   "cell_type": "code",
   "execution_count": 116,
   "id": "d349df0f-3eb1-4ca7-a6b9-406008bb0b08",
   "metadata": {},
   "outputs": [
    {
     "ename": "TypeError",
     "evalue": "'int' object is not subscriptable",
     "output_type": "error",
     "traceback": [
      "\u001b[0;31m---------------------------------------------------------------------------\u001b[0m",
      "\u001b[0;31mTypeError\u001b[0m                                 Traceback (most recent call last)",
      "Cell \u001b[0;32mIn[116], line 1\u001b[0m\n\u001b[0;32m----> 1\u001b[0m \u001b[43ml\u001b[49m\u001b[43m[\u001b[49m\u001b[38;5;241;43m2\u001b[39;49m\u001b[43m]\u001b[49m\u001b[43m[\u001b[49m\u001b[38;5;241;43m0\u001b[39;49m\u001b[43m:\u001b[49m\u001b[38;5;241;43m2\u001b[39;49m\u001b[43m]\u001b[49m\n",
      "\u001b[0;31mTypeError\u001b[0m: 'int' object is not subscriptable"
     ]
    }
   ],
   "source": [
    "l[2][0:2]"
   ]
  },
  {
   "cell_type": "code",
   "execution_count": 117,
   "id": "a896ab10-bb69-48c5-a436-b4dd25693d01",
   "metadata": {},
   "outputs": [
    {
     "ename": "TypeError",
     "evalue": "can only concatenate list (not \"int\") to list",
     "output_type": "error",
     "traceback": [
      "\u001b[0;31m---------------------------------------------------------------------------\u001b[0m",
      "\u001b[0;31mTypeError\u001b[0m                                 Traceback (most recent call last)",
      "Cell \u001b[0;32mIn[117], line 1\u001b[0m\n\u001b[0;32m----> 1\u001b[0m \u001b[43ml\u001b[49m\u001b[38;5;241;43m+\u001b[39;49m\u001b[38;5;241;43m5\u001b[39;49m\n",
      "\u001b[0;31mTypeError\u001b[0m: can only concatenate list (not \"int\") to list"
     ]
    }
   ],
   "source": [
    "l+5"
   ]
  },
  {
   "cell_type": "code",
   "execution_count": 118,
   "id": "394fa76b-5e62-43e8-9a56-aa4f942fc319",
   "metadata": {},
   "outputs": [
    {
     "data": {
      "text/plain": [
       "1.5"
      ]
     },
     "execution_count": 118,
     "metadata": {},
     "output_type": "execute_result"
    }
   ],
   "source": [
    "l[4]"
   ]
  },
  {
   "cell_type": "code",
   "execution_count": 119,
   "id": "ddb98aa7-ba5c-4a30-83ce-ac2b393e9165",
   "metadata": {},
   "outputs": [],
   "source": [
    "# typrcasting"
   ]
  },
  {
   "cell_type": "code",
   "execution_count": 120,
   "id": "a1120d96-e214-4673-b832-db923dbe634c",
   "metadata": {},
   "outputs": [
    {
     "data": {
      "text/plain": [
       "'1.'"
      ]
     },
     "execution_count": 120,
     "metadata": {},
     "output_type": "execute_result"
    }
   ],
   "source": [
    "str(l[4])[0:2]"
   ]
  },
  {
   "cell_type": "code",
   "execution_count": 121,
   "id": "9e82cf83-8e90-4a79-b958-f335f32dc1d1",
   "metadata": {},
   "outputs": [],
   "source": [
    "ll=[3,4,5]"
   ]
  },
  {
   "cell_type": "code",
   "execution_count": 122,
   "id": "81a4f2d9-0a25-492e-95b5-ecd71a056d38",
   "metadata": {},
   "outputs": [
    {
     "data": {
      "text/plain": [
       "[1,\n",
       " 3,\n",
       " 45,\n",
       " 'ankkit',\n",
       " 1.5,\n",
       " True,\n",
       " 5,\n",
       " ['ankit', 'ankit'],\n",
       " 'a',\n",
       " 'n',\n",
       " 'k',\n",
       " 'i',\n",
       " 't',\n",
       " 3,\n",
       " 4,\n",
       " 5,\n",
       " 3,\n",
       " 4,\n",
       " 5]"
      ]
     },
     "execution_count": 122,
     "metadata": {},
     "output_type": "execute_result"
    }
   ],
   "source": [
    "l+ll"
   ]
  },
  {
   "cell_type": "code",
   "execution_count": 123,
   "id": "ffea090a-12c5-40d1-ae0e-e5d2f38da38b",
   "metadata": {},
   "outputs": [
    {
     "data": {
      "text/plain": [
       "[3, 4, 5, 3, 4, 5, 3, 4, 5]"
      ]
     },
     "execution_count": 123,
     "metadata": {},
     "output_type": "execute_result"
    }
   ],
   "source": [
    "ll*3"
   ]
  },
  {
   "cell_type": "code",
   "execution_count": 124,
   "id": "852517c8-7e91-4dc6-894e-31e70c737967",
   "metadata": {},
   "outputs": [
    {
     "data": {
      "text/plain": [
       "16"
      ]
     },
     "execution_count": 124,
     "metadata": {},
     "output_type": "execute_result"
    }
   ],
   "source": [
    "len(l)"
   ]
  },
  {
   "cell_type": "code",
   "execution_count": 125,
   "id": "0fcdc8d7-035a-4d15-8bfb-ab642805d10e",
   "metadata": {},
   "outputs": [],
   "source": [
    "l.append(5)"
   ]
  },
  {
   "cell_type": "code",
   "execution_count": 126,
   "id": "2c3d4ab1-fd23-468f-8b5f-44ca85910312",
   "metadata": {},
   "outputs": [
    {
     "data": {
      "text/plain": [
       "[1,\n",
       " 3,\n",
       " 45,\n",
       " 'ankkit',\n",
       " 1.5,\n",
       " True,\n",
       " 5,\n",
       " ['ankit', 'ankit'],\n",
       " 'a',\n",
       " 'n',\n",
       " 'k',\n",
       " 'i',\n",
       " 't',\n",
       " 3,\n",
       " 4,\n",
       " 5,\n",
       " 5]"
      ]
     },
     "execution_count": 126,
     "metadata": {},
     "output_type": "execute_result"
    }
   ],
   "source": [
    "l"
   ]
  },
  {
   "cell_type": "code",
   "execution_count": 127,
   "id": "d6fa5f0c-4d61-477d-93df-6b300891f9e0",
   "metadata": {},
   "outputs": [],
   "source": [
    "l.insert(2,45)"
   ]
  },
  {
   "cell_type": "code",
   "execution_count": 128,
   "id": "86aeb71c-796f-4fc6-89d4-060073699b1e",
   "metadata": {},
   "outputs": [
    {
     "data": {
      "text/plain": [
       "[1,\n",
       " 3,\n",
       " 45,\n",
       " 45,\n",
       " 'ankkit',\n",
       " 1.5,\n",
       " True,\n",
       " 5,\n",
       " ['ankit', 'ankit'],\n",
       " 'a',\n",
       " 'n',\n",
       " 'k',\n",
       " 'i',\n",
       " 't',\n",
       " 3,\n",
       " 4,\n",
       " 5,\n",
       " 5]"
      ]
     },
     "execution_count": 128,
     "metadata": {},
     "output_type": "execute_result"
    }
   ],
   "source": [
    "l"
   ]
  },
  {
   "cell_type": "code",
   "execution_count": 129,
   "id": "d83eff59-fcba-4a59-9ea9-97cd66ffa701",
   "metadata": {},
   "outputs": [],
   "source": [
    "l.append(ll)"
   ]
  },
  {
   "cell_type": "code",
   "execution_count": 130,
   "id": "3278cdfa-1a5a-4354-8add-6d246d8953ca",
   "metadata": {},
   "outputs": [
    {
     "data": {
      "text/plain": [
       "[1,\n",
       " 3,\n",
       " 45,\n",
       " 45,\n",
       " 'ankkit',\n",
       " 1.5,\n",
       " True,\n",
       " 5,\n",
       " ['ankit', 'ankit'],\n",
       " 'a',\n",
       " 'n',\n",
       " 'k',\n",
       " 'i',\n",
       " 't',\n",
       " 3,\n",
       " 4,\n",
       " 5,\n",
       " 5,\n",
       " [3, 4, 5]]"
      ]
     },
     "execution_count": 130,
     "metadata": {},
     "output_type": "execute_result"
    }
   ],
   "source": [
    "l"
   ]
  },
  {
   "cell_type": "code",
   "execution_count": 131,
   "id": "9d149e08-8975-46b9-bea2-36f8f2289cfc",
   "metadata": {},
   "outputs": [
    {
     "data": {
      "text/plain": [
       "3"
      ]
     },
     "execution_count": 131,
     "metadata": {},
     "output_type": "execute_result"
    }
   ],
   "source": [
    "l[-1][0]"
   ]
  },
  {
   "cell_type": "code",
   "execution_count": 132,
   "id": "fba88008-d83f-4817-b638-b847a192a586",
   "metadata": {
    "tags": []
   },
   "outputs": [
    {
     "data": {
      "text/plain": [
       "[1,\n",
       " 3,\n",
       " 45,\n",
       " 45,\n",
       " 'ankkit',\n",
       " 1.5,\n",
       " True,\n",
       " 5,\n",
       " ['ankit', 'ankit'],\n",
       " 'a',\n",
       " 'n',\n",
       " 'k',\n",
       " 'i',\n",
       " 't',\n",
       " 3,\n",
       " 4,\n",
       " 5,\n",
       " 5,\n",
       " [3, 4, 5]]"
      ]
     },
     "execution_count": 132,
     "metadata": {},
     "output_type": "execute_result"
    }
   ],
   "source": [
    "l"
   ]
  },
  {
   "cell_type": "code",
   "execution_count": 133,
   "id": "85a5bda1-8aea-4341-a7e8-f8d4f6f148f6",
   "metadata": {},
   "outputs": [
    {
     "ename": "TypeError",
     "evalue": "'int' object is not iterable",
     "output_type": "error",
     "traceback": [
      "\u001b[0;31m---------------------------------------------------------------------------\u001b[0m",
      "\u001b[0;31mTypeError\u001b[0m                                 Traceback (most recent call last)",
      "Cell \u001b[0;32mIn[133], line 1\u001b[0m\n\u001b[0;32m----> 1\u001b[0m \u001b[43ml\u001b[49m\u001b[38;5;241;43m.\u001b[39;49m\u001b[43mextend\u001b[49m\u001b[43m(\u001b[49m\u001b[38;5;241;43m4\u001b[39;49m\u001b[43m)\u001b[49m\n",
      "\u001b[0;31mTypeError\u001b[0m: 'int' object is not iterable"
     ]
    }
   ],
   "source": [
    "l.extend(4)"
   ]
  },
  {
   "cell_type": "code",
   "execution_count": 134,
   "id": "ede9fa88-a5ac-4337-a6f3-c98b5ffa3bf8",
   "metadata": {},
   "outputs": [],
   "source": [
    "l.extend(\"ankit\")"
   ]
  },
  {
   "cell_type": "code",
   "execution_count": 135,
   "id": "a77d394b-673b-4b75-bc1e-d68623871a50",
   "metadata": {},
   "outputs": [
    {
     "data": {
      "text/plain": [
       "[1,\n",
       " 3,\n",
       " 45,\n",
       " 45,\n",
       " 'ankkit',\n",
       " 1.5,\n",
       " True,\n",
       " 5,\n",
       " ['ankit', 'ankit'],\n",
       " 'a',\n",
       " 'n',\n",
       " 'k',\n",
       " 'i',\n",
       " 't',\n",
       " 3,\n",
       " 4,\n",
       " 5,\n",
       " 5,\n",
       " [3, 4, 5],\n",
       " 'a',\n",
       " 'n',\n",
       " 'k',\n",
       " 'i',\n",
       " 't']"
      ]
     },
     "execution_count": 135,
     "metadata": {},
     "output_type": "execute_result"
    }
   ],
   "source": [
    "l"
   ]
  },
  {
   "cell_type": "code",
   "execution_count": 136,
   "id": "d8bee2a8-0dfb-4c61-9a04-a887183f0b55",
   "metadata": {},
   "outputs": [],
   "source": [
    "l.extend([3,4,5])"
   ]
  },
  {
   "cell_type": "code",
   "execution_count": 137,
   "id": "9fe2655b-6acb-47ad-b1a4-b450082f95f9",
   "metadata": {},
   "outputs": [
    {
     "data": {
      "text/plain": [
       "[1,\n",
       " 3,\n",
       " 45,\n",
       " 45,\n",
       " 'ankkit',\n",
       " 1.5,\n",
       " True,\n",
       " 5,\n",
       " ['ankit', 'ankit'],\n",
       " 'a',\n",
       " 'n',\n",
       " 'k',\n",
       " 'i',\n",
       " 't',\n",
       " 3,\n",
       " 4,\n",
       " 5,\n",
       " 5,\n",
       " [3, 4, 5],\n",
       " 'a',\n",
       " 'n',\n",
       " 'k',\n",
       " 'i',\n",
       " 't',\n",
       " 3,\n",
       " 4,\n",
       " 5]"
      ]
     },
     "execution_count": 137,
     "metadata": {},
     "output_type": "execute_result"
    }
   ],
   "source": [
    "l"
   ]
  },
  {
   "cell_type": "code",
   "execution_count": 138,
   "id": "4c162c9a-6cef-49b9-b3d3-428ea56a0518",
   "metadata": {},
   "outputs": [],
   "source": [
    "# append kya krega oo as it is data ko daal dega \n",
    "# extend data ko tod tod ke dalega"
   ]
  },
  {
   "cell_type": "code",
   "execution_count": 139,
   "id": "5cb859c5-7af4-4442-8107-36457e08ff5b",
   "metadata": {},
   "outputs": [
    {
     "data": {
      "text/plain": [
       "[3, 4, 5]"
      ]
     },
     "execution_count": 139,
     "metadata": {},
     "output_type": "execute_result"
    }
   ],
   "source": [
    "ll"
   ]
  },
  {
   "cell_type": "code",
   "execution_count": 140,
   "id": "7ce737b3-b9b2-4281-b4f6-d0415baaf410",
   "metadata": {},
   "outputs": [
    {
     "data": {
      "text/plain": [
       "[3, 4, 5]"
      ]
     },
     "execution_count": 140,
     "metadata": {},
     "output_type": "execute_result"
    }
   ],
   "source": [
    "ll"
   ]
  },
  {
   "cell_type": "code",
   "execution_count": 141,
   "id": "2f68cca5-32f4-47df-ba03-94c3c7646205",
   "metadata": {},
   "outputs": [],
   "source": [
    "ll.insert(0,2)"
   ]
  },
  {
   "cell_type": "code",
   "execution_count": 142,
   "id": "bf691171-3b5a-450f-9310-262b1d33430f",
   "metadata": {},
   "outputs": [
    {
     "data": {
      "text/plain": [
       "[2, 3, 4, 5]"
      ]
     },
     "execution_count": 142,
     "metadata": {},
     "output_type": "execute_result"
    }
   ],
   "source": [
    "ll"
   ]
  },
  {
   "cell_type": "code",
   "execution_count": 143,
   "id": "ea405ece-bb79-4a3f-a01f-35517f573cc4",
   "metadata": {},
   "outputs": [
    {
     "data": {
      "text/plain": [
       "[2, 3, 4, 5]"
      ]
     },
     "execution_count": 143,
     "metadata": {},
     "output_type": "execute_result"
    }
   ],
   "source": [
    "ll"
   ]
  },
  {
   "cell_type": "code",
   "execution_count": 144,
   "id": "bd4aa811-9ff7-4fd8-a86e-c7dac875617c",
   "metadata": {},
   "outputs": [],
   "source": [
    "ll.insert(-1,45)"
   ]
  },
  {
   "cell_type": "code",
   "execution_count": 145,
   "id": "194aa6bf-cc9a-4082-9a8f-02709b835979",
   "metadata": {},
   "outputs": [
    {
     "data": {
      "text/plain": [
       "[2, 3, 4, 45, 5]"
      ]
     },
     "execution_count": 145,
     "metadata": {},
     "output_type": "execute_result"
    }
   ],
   "source": [
    "ll"
   ]
  },
  {
   "cell_type": "code",
   "execution_count": 146,
   "id": "48cb1951-14ad-4d7a-8d7f-27544ab8e01f",
   "metadata": {},
   "outputs": [],
   "source": [
    "ll.insert(2,[1,2,3,4])"
   ]
  },
  {
   "cell_type": "code",
   "execution_count": 147,
   "id": "9825de59-08b4-4f06-bb86-cf389e3de5c4",
   "metadata": {},
   "outputs": [
    {
     "data": {
      "text/plain": [
       "[2, 3, [1, 2, 3, 4], 4, 45, 5]"
      ]
     },
     "execution_count": 147,
     "metadata": {},
     "output_type": "execute_result"
    }
   ],
   "source": [
    "ll"
   ]
  },
  {
   "cell_type": "code",
   "execution_count": 149,
   "id": "be32e275-1bfd-4003-b19c-48abe143cbec",
   "metadata": {},
   "outputs": [
    {
     "data": {
      "text/plain": [
       "5"
      ]
     },
     "execution_count": 149,
     "metadata": {},
     "output_type": "execute_result"
    }
   ],
   "source": [
    "ll.pop()"
   ]
  },
  {
   "cell_type": "code",
   "execution_count": 150,
   "id": "fd65a50f-07aa-421f-ac43-e6730195580d",
   "metadata": {},
   "outputs": [
    {
     "data": {
      "text/plain": [
       "[2, 3, [1, 2, 3, 4], 4, 45]"
      ]
     },
     "execution_count": 150,
     "metadata": {},
     "output_type": "execute_result"
    }
   ],
   "source": [
    "ll"
   ]
  },
  {
   "cell_type": "code",
   "execution_count": 151,
   "id": "61a3e9b2-f7bb-4255-a793-633568b9d532",
   "metadata": {},
   "outputs": [
    {
     "data": {
      "text/plain": [
       "4"
      ]
     },
     "execution_count": 151,
     "metadata": {},
     "output_type": "execute_result"
    }
   ],
   "source": [
    "ll.pop(3)"
   ]
  },
  {
   "cell_type": "code",
   "execution_count": 152,
   "id": "b69494de-63a8-4890-9088-b19c7f8eb54f",
   "metadata": {},
   "outputs": [
    {
     "data": {
      "text/plain": [
       "[1, 2, 3, 4]"
      ]
     },
     "execution_count": 152,
     "metadata": {},
     "output_type": "execute_result"
    }
   ],
   "source": [
    "ll.pop(2)"
   ]
  },
  {
   "cell_type": "code",
   "execution_count": 153,
   "id": "cf8d2497-2cbd-4905-9e9c-30c4c4ccfffe",
   "metadata": {},
   "outputs": [
    {
     "data": {
      "text/plain": [
       "[2, 3, 45]"
      ]
     },
     "execution_count": 153,
     "metadata": {},
     "output_type": "execute_result"
    }
   ],
   "source": [
    "ll"
   ]
  },
  {
   "cell_type": "code",
   "execution_count": 154,
   "id": "4b8420ca-e68c-4239-bca3-e4fbdef74ba9",
   "metadata": {},
   "outputs": [],
   "source": [
    "ll.remove(3)"
   ]
  },
  {
   "cell_type": "code",
   "execution_count": 155,
   "id": "2e0cdca3-5594-4828-9674-c988b45f1cf4",
   "metadata": {},
   "outputs": [
    {
     "data": {
      "text/plain": [
       "[2, 45]"
      ]
     },
     "execution_count": 155,
     "metadata": {},
     "output_type": "execute_result"
    }
   ],
   "source": [
    "ll"
   ]
  },
  {
   "cell_type": "code",
   "execution_count": 156,
   "id": "929c86f8-25b1-46e1-bde8-c104691ac784",
   "metadata": {},
   "outputs": [],
   "source": [
    "ll.insert(2,[1,2,3,4,5,6,7])"
   ]
  },
  {
   "cell_type": "code",
   "execution_count": 157,
   "id": "445ade4c-4e20-4d29-acd5-6b409761bd02",
   "metadata": {},
   "outputs": [
    {
     "data": {
      "text/plain": [
       "[2, 45, [1, 2, 3, 4, 5, 6, 7]]"
      ]
     },
     "execution_count": 157,
     "metadata": {},
     "output_type": "execute_result"
    }
   ],
   "source": [
    "ll"
   ]
  },
  {
   "cell_type": "code",
   "execution_count": 161,
   "id": "196d0cf9-db44-4302-bb7c-4791d8dffa73",
   "metadata": {},
   "outputs": [],
   "source": [
    "ll[2].remove(1)"
   ]
  },
  {
   "cell_type": "code",
   "execution_count": 162,
   "id": "e0429a90-4056-4294-8c5d-586b3db0a04d",
   "metadata": {},
   "outputs": [
    {
     "data": {
      "text/plain": [
       "[2, 45, [2, 4, 5, 6, 7]]"
      ]
     },
     "execution_count": 162,
     "metadata": {},
     "output_type": "execute_result"
    }
   ],
   "source": [
    "ll"
   ]
  },
  {
   "cell_type": "code",
   "execution_count": 165,
   "id": "35b618f8-53d6-4cb2-b3ec-12562be2d16f",
   "metadata": {},
   "outputs": [],
   "source": [
    "ll.reverse()"
   ]
  },
  {
   "cell_type": "code",
   "execution_count": 166,
   "id": "933b42bb-386d-4335-b9c7-c1bd329ece9d",
   "metadata": {},
   "outputs": [
    {
     "data": {
      "text/plain": [
       "[[2, 4, 5, 6, 7], 45, 2]"
      ]
     },
     "execution_count": 166,
     "metadata": {},
     "output_type": "execute_result"
    }
   ],
   "source": [
    "ll"
   ]
  },
  {
   "cell_type": "code",
   "execution_count": 167,
   "id": "70fbf89f-4a18-4818-b8d8-4d6f7b3bbee7",
   "metadata": {},
   "outputs": [],
   "source": [
    "# ll[::-1] temporary reverse hai\n",
    "# ll.remove() permanet reverse hai"
   ]
  },
  {
   "cell_type": "code",
   "execution_count": 168,
   "id": "c7e682a3-36c6-41bc-a850-183fcc47b9a1",
   "metadata": {},
   "outputs": [
    {
     "ename": "TypeError",
     "evalue": "'<' not supported between instances of 'int' and 'list'",
     "output_type": "error",
     "traceback": [
      "\u001b[0;31m---------------------------------------------------------------------------\u001b[0m",
      "\u001b[0;31mTypeError\u001b[0m                                 Traceback (most recent call last)",
      "Cell \u001b[0;32mIn[168], line 1\u001b[0m\n\u001b[0;32m----> 1\u001b[0m \u001b[43mll\u001b[49m\u001b[38;5;241;43m.\u001b[39;49m\u001b[43msort\u001b[49m\u001b[43m(\u001b[49m\u001b[43m)\u001b[49m\n",
      "\u001b[0;31mTypeError\u001b[0m: '<' not supported between instances of 'int' and 'list'"
     ]
    }
   ],
   "source": [
    "ll.sort()"
   ]
  },
  {
   "cell_type": "code",
   "execution_count": 172,
   "id": "0eb8fb16-27c7-4480-ab19-42c5ba561e3a",
   "metadata": {},
   "outputs": [],
   "source": [
    "l2=[3,745,23,99,6,7,8,9]"
   ]
  },
  {
   "cell_type": "code",
   "execution_count": 173,
   "id": "4d6e1cd6-b233-449a-a323-a3e228510bbc",
   "metadata": {},
   "outputs": [],
   "source": [
    "l2.sort()"
   ]
  },
  {
   "cell_type": "code",
   "execution_count": 175,
   "id": "95d563bf-dede-4c7d-95f8-fb03e4fa8319",
   "metadata": {},
   "outputs": [
    {
     "data": {
      "text/plain": [
       "[3, 6, 7, 8, 9, 23, 99, 745]"
      ]
     },
     "execution_count": 175,
     "metadata": {},
     "output_type": "execute_result"
    }
   ],
   "source": [
    "l2"
   ]
  },
  {
   "cell_type": "code",
   "execution_count": 178,
   "id": "7b579a29-bc59-4b6a-9704-405b17ab053e",
   "metadata": {},
   "outputs": [],
   "source": [
    "l4=[\"ankit\",\"zevra\",\"corg\",\"bj\"]"
   ]
  },
  {
   "cell_type": "code",
   "execution_count": 179,
   "id": "07519929-5053-4ddc-b7ef-f9fb7f09cbcd",
   "metadata": {},
   "outputs": [],
   "source": [
    "l4.sort()\n"
   ]
  },
  {
   "cell_type": "code",
   "execution_count": 180,
   "id": "78dee11d-b43e-4320-950a-ccca9490ea7e",
   "metadata": {},
   "outputs": [
    {
     "data": {
      "text/plain": [
       "['ankit', 'bj', 'corg', 'zevra']"
      ]
     },
     "execution_count": 180,
     "metadata": {},
     "output_type": "execute_result"
    }
   ],
   "source": [
    "l4"
   ]
  },
  {
   "cell_type": "code",
   "execution_count": 181,
   "id": "00056c07-efee-4af3-ada5-85596b3c90b8",
   "metadata": {},
   "outputs": [],
   "source": [
    "l4.sort(reverse=True)"
   ]
  },
  {
   "cell_type": "code",
   "execution_count": 182,
   "id": "84e460e0-a69f-4edf-9379-aacf7288134a",
   "metadata": {},
   "outputs": [
    {
     "data": {
      "text/plain": [
       "['zevra', 'corg', 'bj', 'ankit']"
      ]
     },
     "execution_count": 182,
     "metadata": {},
     "output_type": "execute_result"
    }
   ],
   "source": [
    "l4"
   ]
  },
  {
   "cell_type": "code",
   "execution_count": 183,
   "id": "c1f7693d-f762-4908-b7a6-1659a1c32948",
   "metadata": {},
   "outputs": [
    {
     "data": {
      "text/plain": [
       "3"
      ]
     },
     "execution_count": 183,
     "metadata": {},
     "output_type": "execute_result"
    }
   ],
   "source": [
    "l4.index(\"ankit\")"
   ]
  },
  {
   "cell_type": "code",
   "execution_count": 184,
   "id": "08ce7375-b495-4ca3-90e7-dfd43f1ec53b",
   "metadata": {},
   "outputs": [
    {
     "data": {
      "text/plain": [
       "1"
      ]
     },
     "execution_count": 184,
     "metadata": {},
     "output_type": "execute_result"
    }
   ],
   "source": [
    "l4.count(\"ankit\")"
   ]
  },
  {
   "cell_type": "code",
   "execution_count": 185,
   "id": "9062cdff-3a96-485e-a52d-9718c861ab0d",
   "metadata": {},
   "outputs": [],
   "source": [
    "s=\"sudh\""
   ]
  },
  {
   "cell_type": "code",
   "execution_count": 186,
   "id": "0c54f9e6-adb2-421f-8bef-8a127aa302a0",
   "metadata": {},
   "outputs": [],
   "source": [
    "l5=[3,4,5]"
   ]
  },
  {
   "cell_type": "code",
   "execution_count": 187,
   "id": "9b8223fe-8454-4266-a795-1a99ccaa5255",
   "metadata": {},
   "outputs": [
    {
     "ename": "TypeError",
     "evalue": "'str' object does not support item assignment",
     "output_type": "error",
     "traceback": [
      "\u001b[0;31m---------------------------------------------------------------------------\u001b[0m",
      "\u001b[0;31mTypeError\u001b[0m                                 Traceback (most recent call last)",
      "Cell \u001b[0;32mIn[187], line 1\u001b[0m\n\u001b[0;32m----> 1\u001b[0m \u001b[43ms\u001b[49m\u001b[43m[\u001b[49m\u001b[38;5;241;43m0\u001b[39;49m\u001b[43m]\u001b[49m\u001b[38;5;241m=\u001b[39m\u001b[38;5;124m'\u001b[39m\u001b[38;5;124ma\u001b[39m\u001b[38;5;124m'\u001b[39m\n",
      "\u001b[0;31mTypeError\u001b[0m: 'str' object does not support item assignment"
     ]
    }
   ],
   "source": [
    "s[0]='a'"
   ]
  },
  {
   "cell_type": "code",
   "execution_count": 189,
   "id": "c1822aed-477b-4411-91de-4a88c143ff4e",
   "metadata": {},
   "outputs": [
    {
     "data": {
      "text/plain": [
       "1"
      ]
     },
     "execution_count": 189,
     "metadata": {},
     "output_type": "execute_result"
    }
   ],
   "source": [
    "l[0]"
   ]
  },
  {
   "cell_type": "code",
   "execution_count": 190,
   "id": "9667a97b-4f85-49b8-8e18-bedde07a6ffe",
   "metadata": {},
   "outputs": [
    {
     "data": {
      "text/plain": [
       "[3, 4, 5]"
      ]
     },
     "execution_count": 190,
     "metadata": {},
     "output_type": "execute_result"
    }
   ],
   "source": [
    "l5"
   ]
  },
  {
   "cell_type": "code",
   "execution_count": 191,
   "id": "3a9bf2ec-8eb1-44e2-a344-12b1dfdba83a",
   "metadata": {},
   "outputs": [],
   "source": [
    "l5[0]=40"
   ]
  },
  {
   "cell_type": "code",
   "execution_count": 192,
   "id": "c32fe084-c60c-401f-81aa-152af8e8c73d",
   "metadata": {},
   "outputs": [
    {
     "data": {
      "text/plain": [
       "[40, 4, 5]"
      ]
     },
     "execution_count": 192,
     "metadata": {},
     "output_type": "execute_result"
    }
   ],
   "source": [
    "l5"
   ]
  },
  {
   "cell_type": "code",
   "execution_count": 193,
   "id": "07b7b295-2c36-4a3e-af9b-832d0b0a7fa5",
   "metadata": {},
   "outputs": [],
   "source": [
    "#list is mutuable\n",
    "# string is immutable"
   ]
  },
  {
   "cell_type": "code",
   "execution_count": 194,
   "id": "5cfad158-ba74-4331-aebf-b7107fb0293e",
   "metadata": {},
   "outputs": [],
   "source": [
    "z=\"ankit\""
   ]
  },
  {
   "cell_type": "code",
   "execution_count": 195,
   "id": "acb844a8-b183-4340-a48e-f6fca2df8f7e",
   "metadata": {},
   "outputs": [
    {
     "data": {
      "text/plain": [
       "'snkit'"
      ]
     },
     "execution_count": 195,
     "metadata": {},
     "output_type": "execute_result"
    }
   ],
   "source": [
    "z.replace('a','s')"
   ]
  },
  {
   "cell_type": "code",
   "execution_count": 196,
   "id": "6ca6893c-1213-4d41-a23e-83187f6bd3b1",
   "metadata": {},
   "outputs": [
    {
     "data": {
      "text/plain": [
       "'ankit'"
      ]
     },
     "execution_count": 196,
     "metadata": {},
     "output_type": "execute_result"
    }
   ],
   "source": [
    "z"
   ]
  },
  {
   "cell_type": "code",
   "execution_count": 197,
   "id": "0cfde70d-fb1e-42cf-ae61-65ee430b62fb",
   "metadata": {},
   "outputs": [],
   "source": [
    "## TUPLES"
   ]
  },
  {
   "cell_type": "code",
   "execution_count": null,
   "id": "4e2c1f96-a852-4caa-9cc0-0925c60b5059",
   "metadata": {},
   "outputs": [],
   "source": []
  },
  {
   "cell_type": "code",
   "execution_count": null,
   "id": "41059b8f-a8f3-4f46-8e63-bfbfab422d09",
   "metadata": {},
   "outputs": [],
   "source": []
  },
  {
   "cell_type": "code",
   "execution_count": 199,
   "id": "63528ebd-c6c8-4d1b-8dfd-215e357a152b",
   "metadata": {},
   "outputs": [],
   "source": [
    "t=(2,3,4,4,56,\"ankit\",True,False,45+8j,[3,4,5])"
   ]
  },
  {
   "cell_type": "code",
   "execution_count": 200,
   "id": "b14a87f7-1d27-4ed6-8ae8-8cf48f58bf60",
   "metadata": {},
   "outputs": [
    {
     "data": {
      "text/plain": [
       "(2, 3, 4, 4, 56, 'ankit', True, False, (45+8j), [3, 4, 5])"
      ]
     },
     "execution_count": 200,
     "metadata": {},
     "output_type": "execute_result"
    }
   ],
   "source": [
    "t"
   ]
  },
  {
   "cell_type": "code",
   "execution_count": 201,
   "id": "9d9bb380-ad09-4194-8c9c-a115f8cb379c",
   "metadata": {},
   "outputs": [
    {
     "data": {
      "text/plain": [
       "tuple"
      ]
     },
     "execution_count": 201,
     "metadata": {},
     "output_type": "execute_result"
    }
   ],
   "source": [
    "type(t)"
   ]
  },
  {
   "cell_type": "code",
   "execution_count": 202,
   "id": "dff060dc-f228-4006-8210-2a9c35f08cc0",
   "metadata": {},
   "outputs": [
    {
     "data": {
      "text/plain": [
       "2"
      ]
     },
     "execution_count": 202,
     "metadata": {},
     "output_type": "execute_result"
    }
   ],
   "source": [
    "t[0]"
   ]
  },
  {
   "cell_type": "code",
   "execution_count": 203,
   "id": "ec121fe8-6638-4ea6-b4c0-cd2b8b54689d",
   "metadata": {},
   "outputs": [
    {
     "data": {
      "text/plain": [
       "True"
      ]
     },
     "execution_count": 203,
     "metadata": {},
     "output_type": "execute_result"
    }
   ],
   "source": [
    "t[6]"
   ]
  },
  {
   "cell_type": "code",
   "execution_count": 204,
   "id": "38ec4eb1-81a9-4662-9573-a126614f1a5a",
   "metadata": {},
   "outputs": [
    {
     "data": {
      "text/plain": [
       "[3, 4, 5]"
      ]
     },
     "execution_count": 204,
     "metadata": {},
     "output_type": "execute_result"
    }
   ],
   "source": [
    "t[-1]"
   ]
  },
  {
   "cell_type": "code",
   "execution_count": 205,
   "id": "3a5eb747-ecdf-4f27-98a4-ae9dec3c6f46",
   "metadata": {},
   "outputs": [
    {
     "data": {
      "text/plain": [
       "([3, 4, 5], (45+8j), False, True, 'ankit', 56, 4, 4, 3, 2)"
      ]
     },
     "execution_count": 205,
     "metadata": {},
     "output_type": "execute_result"
    }
   ],
   "source": [
    "t[::-1]"
   ]
  },
  {
   "cell_type": "code",
   "execution_count": 206,
   "id": "fbff5461-1976-4520-b2b9-21753ebfc66e",
   "metadata": {},
   "outputs": [
    {
     "ename": "TypeError",
     "evalue": "'tuple' object does not support item assignment",
     "output_type": "error",
     "traceback": [
      "\u001b[0;31m---------------------------------------------------------------------------\u001b[0m",
      "\u001b[0;31mTypeError\u001b[0m                                 Traceback (most recent call last)",
      "Cell \u001b[0;32mIn[206], line 1\u001b[0m\n\u001b[0;32m----> 1\u001b[0m \u001b[43mt\u001b[49m\u001b[43m[\u001b[49m\u001b[38;5;241;43m0\u001b[39;49m\u001b[43m]\u001b[49m\u001b[38;5;241m=\u001b[39m\u001b[38;5;124m'\u001b[39m\u001b[38;5;124mankit\u001b[39m\u001b[38;5;124m'\u001b[39m\n",
      "\u001b[0;31mTypeError\u001b[0m: 'tuple' object does not support item assignment"
     ]
    }
   ],
   "source": [
    "t[0]='ankit'"
   ]
  },
  {
   "cell_type": "code",
   "execution_count": 207,
   "id": "92fba598-e098-4340-9e61-bc6fcf18bd4c",
   "metadata": {},
   "outputs": [
    {
     "data": {
      "text/plain": [
       "0"
      ]
     },
     "execution_count": 207,
     "metadata": {},
     "output_type": "execute_result"
    }
   ],
   "source": [
    "t.count(50)"
   ]
  },
  {
   "cell_type": "code",
   "execution_count": 208,
   "id": "a25e467a-d9be-4355-a7a2-01d83c38d99a",
   "metadata": {},
   "outputs": [
    {
     "data": {
      "text/plain": [
       "7"
      ]
     },
     "execution_count": 208,
     "metadata": {},
     "output_type": "execute_result"
    }
   ],
   "source": [
    "t.index(False)"
   ]
  },
  {
   "cell_type": "code",
   "execution_count": null,
   "id": "90024ef9-bd75-45f3-a384-b1aba96b11e6",
   "metadata": {},
   "outputs": [],
   "source": [
    "\n",
    "\n",
    "\n",
    "\n",
    "\n"
   ]
  },
  {
   "cell_type": "code",
   "execution_count": null,
   "id": "e2c0186c-cab6-40bb-bf17-198583baa842",
   "metadata": {},
   "outputs": [],
   "source": []
  },
  {
   "cell_type": "code",
   "execution_count": null,
   "id": "a7e40ae8-5e40-43ae-98a4-67070aa2ad33",
   "metadata": {},
   "outputs": [],
   "source": []
  },
  {
   "cell_type": "code",
   "execution_count": null,
   "id": "e94e8453-f8e7-4fab-a67d-17ffbc72608b",
   "metadata": {},
   "outputs": [],
   "source": []
  },
  {
   "cell_type": "code",
   "execution_count": null,
   "id": "4aac043c-491b-4388-a207-93ed2eb6d58c",
   "metadata": {},
   "outputs": [],
   "source": []
  },
  {
   "cell_type": "code",
   "execution_count": 209,
   "id": "eda93d12-f94c-4aa5-a756-491e17de7f86",
   "metadata": {},
   "outputs": [],
   "source": [
    "# SET"
   ]
  },
  {
   "cell_type": "code",
   "execution_count": null,
   "id": "7aa67d8a-f8b1-4028-9e1e-7ea977fb6746",
   "metadata": {},
   "outputs": [],
   "source": []
  },
  {
   "cell_type": "code",
   "execution_count": null,
   "id": "06d75d99-a54c-41b7-b061-f0bccee8b64a",
   "metadata": {},
   "outputs": [],
   "source": []
  },
  {
   "cell_type": "code",
   "execution_count": null,
   "id": "da219f61-0547-4771-ae5b-49f8c5d40b8a",
   "metadata": {},
   "outputs": [],
   "source": []
  },
  {
   "cell_type": "code",
   "execution_count": null,
   "id": "cee8e92c-03e3-4ba7-b3a2-a978d5701d10",
   "metadata": {},
   "outputs": [],
   "source": []
  },
  {
   "cell_type": "code",
   "execution_count": 210,
   "id": "4921b222-20fe-43ca-bbe8-5711fc2ee1ee",
   "metadata": {},
   "outputs": [],
   "source": [
    "s1={}"
   ]
  },
  {
   "cell_type": "code",
   "execution_count": 211,
   "id": "4837c8ee-db40-4f03-8813-5f2c4274e2c5",
   "metadata": {},
   "outputs": [
    {
     "data": {
      "text/plain": [
       "dict"
      ]
     },
     "execution_count": 211,
     "metadata": {},
     "output_type": "execute_result"
    }
   ],
   "source": [
    "type(s1)"
   ]
  },
  {
   "cell_type": "code",
   "execution_count": 212,
   "id": "6bfa9b3b-8ef0-4cf8-8a77-c40fdbdb46e0",
   "metadata": {},
   "outputs": [],
   "source": [
    "s2={2,3,4,5}"
   ]
  },
  {
   "cell_type": "code",
   "execution_count": 215,
   "id": "a88c758f-f7df-42f4-87e0-32ff72420c11",
   "metadata": {},
   "outputs": [
    {
     "data": {
      "text/plain": [
       "set"
      ]
     },
     "execution_count": 215,
     "metadata": {},
     "output_type": "execute_result"
    }
   ],
   "source": [
    "type(s2)"
   ]
  },
  {
   "cell_type": "code",
   "execution_count": 216,
   "id": "858e6eb8-701b-44e3-adb2-0697816b2cd4",
   "metadata": {},
   "outputs": [],
   "source": [
    "s3={234,4,5,6,(45+8j)}"
   ]
  },
  {
   "cell_type": "code",
   "execution_count": 217,
   "id": "947f0e86-40d4-4d8f-86e5-0ac2d3c6d8dd",
   "metadata": {},
   "outputs": [
    {
     "data": {
      "text/plain": [
       "{(45+8j), 234, 4, 5, 6}"
      ]
     },
     "execution_count": 217,
     "metadata": {},
     "output_type": "execute_result"
    }
   ],
   "source": [
    "s3"
   ]
  },
  {
   "cell_type": "code",
   "execution_count": 219,
   "id": "3d4690a4-cca1-4d09-9f0d-1942dc133faf",
   "metadata": {},
   "outputs": [],
   "source": [
    "s4={4,4,4,4,44,44,4,8,8,8,8,9,4,4,49,}"
   ]
  },
  {
   "cell_type": "code",
   "execution_count": 220,
   "id": "93a89bb0-c3fb-423a-9f01-0f444e508b5c",
   "metadata": {},
   "outputs": [
    {
     "data": {
      "text/plain": [
       "{4, 8, 9, 44, 49}"
      ]
     },
     "execution_count": 220,
     "metadata": {},
     "output_type": "execute_result"
    }
   ],
   "source": [
    "s4"
   ]
  },
  {
   "cell_type": "code",
   "execution_count": 221,
   "id": "82b94708-be1c-4b7a-8a74-067d02ccb60c",
   "metadata": {},
   "outputs": [],
   "source": [
    "# set remove duplicate value"
   ]
  },
  {
   "cell_type": "code",
   "execution_count": 225,
   "id": "d638a15a-dc5e-4a30-a2b4-fd77fa2baa5f",
   "metadata": {},
   "outputs": [],
   "source": [
    "s5={43,1,2,3,4,\"ankih\",678,86,8,435,45,54,5,45,}"
   ]
  },
  {
   "cell_type": "code",
   "execution_count": 226,
   "id": "b76358ee-d8fc-4d99-af56-b2bd1e7b3c27",
   "metadata": {},
   "outputs": [
    {
     "data": {
      "text/plain": [
       "{1, 2, 3, 4, 43, 435, 45, 5, 54, 678, 8, 86, 'ankih'}"
      ]
     },
     "execution_count": 226,
     "metadata": {},
     "output_type": "execute_result"
    }
   ],
   "source": [
    "s5"
   ]
  },
  {
   "cell_type": "code",
   "execution_count": 227,
   "id": "38436d31-9fc4-45d1-8163-3d2956dc8fd6",
   "metadata": {},
   "outputs": [
    {
     "ename": "TypeError",
     "evalue": "'set' object is not subscriptable",
     "output_type": "error",
     "traceback": [
      "\u001b[0;31m---------------------------------------------------------------------------\u001b[0m",
      "\u001b[0;31mTypeError\u001b[0m                                 Traceback (most recent call last)",
      "Cell \u001b[0;32mIn[227], line 1\u001b[0m\n\u001b[0;32m----> 1\u001b[0m \u001b[43ms5\u001b[49m\u001b[43m[\u001b[49m\u001b[38;5;241;43m0\u001b[39;49m\u001b[43m]\u001b[49m\n",
      "\u001b[0;31mTypeError\u001b[0m: 'set' object is not subscriptable"
     ]
    }
   ],
   "source": [
    "s5[0]"
   ]
  },
  {
   "cell_type": "code",
   "execution_count": 228,
   "id": "a187530d-6b8b-4327-bf59-8177c26e639f",
   "metadata": {},
   "outputs": [],
   "source": [
    "s5.add(1.5)"
   ]
  },
  {
   "cell_type": "code",
   "execution_count": 229,
   "id": "06b6bd57-4503-4ce9-a8b6-4c5af5558784",
   "metadata": {},
   "outputs": [
    {
     "data": {
      "text/plain": [
       "{1, 1.5, 2, 3, 4, 43, 435, 45, 5, 54, 678, 8, 86, 'ankih'}"
      ]
     },
     "execution_count": 229,
     "metadata": {},
     "output_type": "execute_result"
    }
   ],
   "source": [
    "s5"
   ]
  },
  {
   "cell_type": "code",
   "execution_count": 231,
   "id": "17be3f5e-a982-4366-aba8-777abb931a34",
   "metadata": {},
   "outputs": [],
   "source": [
    "s5.remove(1.5)"
   ]
  },
  {
   "cell_type": "code",
   "execution_count": 232,
   "id": "15f86698-9f1c-456f-823a-77524e7af70e",
   "metadata": {},
   "outputs": [
    {
     "data": {
      "text/plain": [
       "{1, 2, 3, 4, 43, 435, 45, 5, 54, 678, 8, 86, 'ankih'}"
      ]
     },
     "execution_count": 232,
     "metadata": {},
     "output_type": "execute_result"
    }
   ],
   "source": [
    "s5\n"
   ]
  },
  {
   "cell_type": "code",
   "execution_count": null,
   "id": "4bf64030-aa4b-4a10-aadd-b7bef7e7d54b",
   "metadata": {},
   "outputs": [],
   "source": []
  }
 ],
 "metadata": {
  "kernelspec": {
   "display_name": "Python 3 (ipykernel)",
   "language": "python",
   "name": "python3"
  },
  "language_info": {
   "codemirror_mode": {
    "name": "ipython",
    "version": 3
   },
   "file_extension": ".py",
   "mimetype": "text/x-python",
   "name": "python",
   "nbconvert_exporter": "python",
   "pygments_lexer": "ipython3",
   "version": "3.10.8"
  }
 },
 "nbformat": 4,
 "nbformat_minor": 5
}
