{
 "cells": [
  {
   "cell_type": "code",
   "execution_count": 1,
   "id": "c425eb98",
   "metadata": {},
   "outputs": [],
   "source": [
    "def test(a,b):\n",
    "    return a+b"
   ]
  },
  {
   "cell_type": "code",
   "execution_count": 2,
   "id": "36f7519a",
   "metadata": {},
   "outputs": [
    {
     "data": {
      "text/plain": [
       "7"
      ]
     },
     "execution_count": 2,
     "metadata": {},
     "output_type": "execute_result"
    }
   ],
   "source": [
    "test(3,4)"
   ]
  },
  {
   "cell_type": "code",
   "execution_count": 3,
   "id": "0d74e5b1",
   "metadata": {},
   "outputs": [
    {
     "data": {
      "text/plain": [
       "'ankit raj'"
      ]
     },
     "execution_count": 3,
     "metadata": {},
     "output_type": "execute_result"
    }
   ],
   "source": [
    "test(\"ankit\",\" raj\")"
   ]
  },
  {
   "cell_type": "code",
   "execution_count": 4,
   "id": "254ab3a7",
   "metadata": {},
   "outputs": [
    {
     "data": {
      "text/plain": [
       "[3, 4, 5, 4, 5, 6]"
      ]
     },
     "execution_count": 4,
     "metadata": {},
     "output_type": "execute_result"
    }
   ],
   "source": [
    "test([3,4,5],[4,5,6])"
   ]
  },
  {
   "cell_type": "code",
   "execution_count": 5,
   "id": "1c5754c9",
   "metadata": {},
   "outputs": [],
   "source": [
    "class datascience:\n",
    "    def syllabus(self):\n",
    "        print(\"this is my syllabus of datascience\")"
   ]
  },
  {
   "cell_type": "code",
   "execution_count": 6,
   "id": "d94269bf",
   "metadata": {},
   "outputs": [],
   "source": [
    "class webdev:\n",
    "    def syllabus(self):\n",
    "        print(\"This is syllabus of web dev\")"
   ]
  },
  {
   "cell_type": "code",
   "execution_count": 7,
   "id": "eb0ab6ba",
   "metadata": {},
   "outputs": [],
   "source": [
    "def class_percer(class_object):\n",
    "    for i in class_object:\n",
    "        i.syllabus()"
   ]
  },
  {
   "cell_type": "code",
   "execution_count": 10,
   "id": "615ff9c5",
   "metadata": {},
   "outputs": [],
   "source": [
    "datascience = datascience()"
   ]
  },
  {
   "cell_type": "code",
   "execution_count": 11,
   "id": "8ed27367",
   "metadata": {},
   "outputs": [],
   "source": [
    "webdev = webdev()"
   ]
  },
  {
   "cell_type": "code",
   "execution_count": 12,
   "id": "f167e02d",
   "metadata": {},
   "outputs": [],
   "source": [
    "class_object =[datascience,webdev]"
   ]
  },
  {
   "cell_type": "code",
   "execution_count": 13,
   "id": "102f41a1",
   "metadata": {},
   "outputs": [
    {
     "name": "stdout",
     "output_type": "stream",
     "text": [
      "this is my syllabus of datascience\n",
      "This is syllabus of web dev\n"
     ]
    }
   ],
   "source": [
    "class_percer(class_object)"
   ]
  },
  {
   "cell_type": "markdown",
   "id": "94ec6f66",
   "metadata": {},
   "source": [
    "# polymorphism means - agr ma office ma hu to mera behavoiur dusra hoga \n",
    "# ghar ma hu to mera behaviour dusra hoga , dost ka sath hu to mera behaviour dusra hoga\n",
    "# lakin ma person same hi hu but my nature will change depends upon data input"
   ]
  },
  {
   "cell_type": "code",
   "execution_count": null,
   "id": "b3053761",
   "metadata": {},
   "outputs": [],
   "source": []
  }
 ],
 "metadata": {
  "kernelspec": {
   "display_name": "Python 3 (ipykernel)",
   "language": "python",
   "name": "python3"
  },
  "language_info": {
   "codemirror_mode": {
    "name": "ipython",
    "version": 3
   },
   "file_extension": ".py",
   "mimetype": "text/x-python",
   "name": "python",
   "nbconvert_exporter": "python",
   "pygments_lexer": "ipython3",
   "version": "3.9.13"
  }
 },
 "nbformat": 4,
 "nbformat_minor": 5
}
