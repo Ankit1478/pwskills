{
 "cells": [
  {
   "cell_type": "code",
   "execution_count": null,
   "id": "1335bf68-2948-4898-b532-431982bc6819",
   "metadata": {},
   "outputs": [],
   "source": [
    "d={}"
   ]
  },
  {
   "cell_type": "code",
   "execution_count": null,
   "id": "d0c78fcf-bd57-4e91-b63f-f5b585f8ac02",
   "metadata": {},
   "outputs": [],
   "source": [
    "type(d)"
   ]
  },
  {
   "cell_type": "code",
   "execution_count": null,
   "id": "e286c46b-1507-4c72-a211-36aa6eb8a591",
   "metadata": {},
   "outputs": [],
   "source": [
    "d1={'key':\"ankit\"}"
   ]
  },
  {
   "cell_type": "code",
   "execution_count": null,
   "id": "d7dde151-4873-4d55-aeef-fe6265d564f3",
   "metadata": {},
   "outputs": [],
   "source": [
    "d1"
   ]
  },
  {
   "cell_type": "code",
   "execution_count": null,
   "id": "5b4de0ef-568a-4a58-8744-c30615ee537d",
   "metadata": {},
   "outputs": [],
   "source": [
    "d2={'name':\"ankit raj\",\"email\":\"kumarankitraj1489@gmail.com\"}"
   ]
  },
  {
   "cell_type": "code",
   "execution_count": null,
   "id": "f4e5e55c-d7fa-426e-8e8d-7786f3e1bc9f",
   "metadata": {},
   "outputs": [],
   "source": [
    "d2"
   ]
  },
  {
   "cell_type": "code",
   "execution_count": null,
   "id": "a160d78d-2806-4be8-839a-33401e2cfedd",
   "metadata": {},
   "outputs": [],
   "source": [
    "d3={123:\"ankit\"}"
   ]
  },
  {
   "cell_type": "code",
   "execution_count": null,
   "id": "5e62c731-288a-4a3a-91cb-145c473b8c6d",
   "metadata": {},
   "outputs": [],
   "source": [
    "d3"
   ]
  },
  {
   "cell_type": "code",
   "execution_count": null,
   "id": "d394236b-f9f2-4718-94ed-a2a8669fab38",
   "metadata": {},
   "outputs": [],
   "source": [
    "d4={234:\"@\",True:3647}"
   ]
  },
  {
   "cell_type": "code",
   "execution_count": null,
   "id": "975c5160-ca6c-43ed-bb6d-c0434179ce6d",
   "metadata": {},
   "outputs": [],
   "source": [
    "d4"
   ]
  },
  {
   "cell_type": "code",
   "execution_count": null,
   "id": "c7c688cc-4dd7-4ed9-a533-41334ca934a3",
   "metadata": {},
   "outputs": [],
   "source": [
    "d2['name']"
   ]
  },
  {
   "cell_type": "code",
   "execution_count": null,
   "id": "89a73181-0afe-47b4-b6da-aa66aaccd8f3",
   "metadata": {},
   "outputs": [],
   "source": [
    "d4[True]"
   ]
  },
  {
   "cell_type": "code",
   "execution_count": null,
   "id": "52a9a2d3-3c6f-48f0-bc4e-190b51f7e3e7",
   "metadata": {},
   "outputs": [],
   "source": [
    "d5={'name':\"ankit\",'email':\"2gmail.com\",\"name\":\"sudh\"}"
   ]
  },
  {
   "cell_type": "code",
   "execution_count": null,
   "id": "ce1df1fa-476a-444d-b620-3029030b3d9a",
   "metadata": {},
   "outputs": [],
   "source": [
    "d5"
   ]
  },
  {
   "cell_type": "code",
   "execution_count": null,
   "id": "a12f84eb-259d-4dac-92df-13665dc99832",
   "metadata": {},
   "outputs": [],
   "source": [
    "ds={\"company\":\"pwskill\",\"course\":[\"web dev\",\"data science\",\"DSA\"]}"
   ]
  },
  {
   "cell_type": "code",
   "execution_count": null,
   "id": "7703898e-ff35-42c7-bd04-85e792039beb",
   "metadata": {},
   "outputs": [],
   "source": [
    "ds"
   ]
  },
  {
   "cell_type": "code",
   "execution_count": null,
   "id": "7353ca73-b4e4-49e1-9a04-a5bc4763778e",
   "metadata": {},
   "outputs": [],
   "source": [
    "ds[\"course\"][2]"
   ]
  },
  {
   "cell_type": "code",
   "execution_count": null,
   "id": "7080d5ec-7de1-486a-a971-80e1f791bc3a",
   "metadata": {},
   "outputs": [],
   "source": [
    "ds={\"number\":[2,3,4,5,6,7,8],\"assignment\":(1,2,3,4,5,6,7,8),\"launch date\":{26,34,56},\"class time\":{\"web dev\":8,\"data science\":4}}"
   ]
  },
  {
   "cell_type": "code",
   "execution_count": null,
   "id": "290ad244-31d1-4fc5-a9f2-4dd1e988a6e6",
   "metadata": {},
   "outputs": [],
   "source": [
    "ds"
   ]
  },
  {
   "cell_type": "code",
   "execution_count": null,
   "id": "47c872e4-93b0-4aa8-9302-68a1eeccbd1d",
   "metadata": {},
   "outputs": [],
   "source": [
    "ds['class time']['data science']"
   ]
  },
  {
   "cell_type": "code",
   "execution_count": null,
   "id": "99778260-b0c9-4a56-aec3-19d2bcc62dd6",
   "metadata": {},
   "outputs": [],
   "source": [
    "ds['mentor']=['ranjan','krish','hayder'] # add"
   ]
  },
  {
   "cell_type": "code",
   "execution_count": null,
   "id": "8930aa9a-854b-4763-bc35-f7c4dce787fc",
   "metadata": {},
   "outputs": [],
   "source": [
    "ds"
   ]
  },
  {
   "cell_type": "code",
   "execution_count": null,
   "id": "98b9a2ea-1b4f-4075-b6ac-cd17c4cabc52",
   "metadata": {},
   "outputs": [],
   "source": [
    "#delete"
   ]
  },
  {
   "cell_type": "code",
   "execution_count": null,
   "id": "d8d3401f-b3c1-415f-92ac-50c754cf40d3",
   "metadata": {},
   "outputs": [],
   "source": [
    "del ds['number']"
   ]
  },
  {
   "cell_type": "code",
   "execution_count": null,
   "id": "cbb26602-7b97-41f2-8d65-1b91ac5bc6da",
   "metadata": {},
   "outputs": [],
   "source": [
    "ds"
   ]
  },
  {
   "cell_type": "code",
   "execution_count": null,
   "id": "fe4e6214-349c-4f08-aef3-0372407edc30",
   "metadata": {},
   "outputs": [],
   "source": [
    "ds.keys()"
   ]
  },
  {
   "cell_type": "code",
   "execution_count": null,
   "id": "665a7a13-9904-4be8-9647-9f4e10ce58cd",
   "metadata": {},
   "outputs": [],
   "source": [
    "ds.values()"
   ]
  },
  {
   "cell_type": "code",
   "execution_count": null,
   "id": "86e371c3-449f-4b91-88f6-33700d889c67",
   "metadata": {},
   "outputs": [],
   "source": [
    "ds.items()"
   ]
  },
  {
   "cell_type": "code",
   "execution_count": null,
   "id": "95bfd867-01c1-47e9-9595-cb983448f863",
   "metadata": {},
   "outputs": [],
   "source": [
    "list(ds.items())"
   ]
  },
  {
   "cell_type": "code",
   "execution_count": null,
   "id": "5d01e6c7-bfb6-479e-b91f-be7c2d8f7b01",
   "metadata": {},
   "outputs": [],
   "source": [
    "ds.pop('assignment')"
   ]
  },
  {
   "cell_type": "code",
   "execution_count": null,
   "id": "5a9641bf-f688-4ef5-b0ef-dd3611e55da2",
   "metadata": {},
   "outputs": [],
   "source": [
    "ds"
   ]
  },
  {
   "cell_type": "code",
   "execution_count": null,
   "id": "a5cbf155-f05e-46ed-b6c2-77fc9f38fb6f",
   "metadata": {},
   "outputs": [],
   "source": [
    "ds.pop()"
   ]
  },
  {
   "cell_type": "code",
   "execution_count": null,
   "id": "978dd8b0-ec06-44b5-88a8-f9a109eb85d1",
   "metadata": {},
   "outputs": [],
   "source": [
    "marks= -56\n",
    "if marks>=80:\n",
    "    print(\"excellent\")\n",
    "elif marks>=60 and marks<=80:\n",
    "    print(\"good\")\n",
    "elif marks>=40 and marks<=60:\n",
    "    print(\"bad\")\n",
    "else:\n",
    "    print(\"kute\")"
   ]
  },
  {
   "cell_type": "code",
   "execution_count": 3,
   "id": "40d9442b-ac6a-4ab3-bd5c-51cc4967f138",
   "metadata": {},
   "outputs": [
    {
     "data": {
      "text/plain": [
       "False"
      ]
     },
     "execution_count": 3,
     "metadata": {},
     "output_type": "execute_result"
    }
   ],
   "source": [
    "10>=80"
   ]
  },
  {
   "cell_type": "code",
   "execution_count": 4,
   "id": "9f00b929-d7ef-4f35-90d2-4c7aacc7d078",
   "metadata": {},
   "outputs": [
    {
     "ename": "KeyboardInterrupt",
     "evalue": "Interrupted by user",
     "output_type": "error",
     "traceback": [
      "\u001b[0;31m---------------------------------------------------------------------------\u001b[0m",
      "\u001b[0;31mKeyboardInterrupt\u001b[0m                         Traceback (most recent call last)",
      "Cell \u001b[0;32mIn[4], line 1\u001b[0m\n\u001b[0;32m----> 1\u001b[0m mark\u001b[38;5;241m=\u001b[39m \u001b[38;5;28;43minput\u001b[39;49m\u001b[43m(\u001b[49m\u001b[38;5;124;43m\"\u001b[39;49m\u001b[38;5;124;43menter your mark\u001b[39;49m\u001b[38;5;124;43m\"\u001b[39;49m\u001b[43m)\u001b[49m\n\u001b[1;32m      2\u001b[0m \u001b[38;5;28;01mif\u001b[39;00m mark\u001b[38;5;241m>\u001b[39m\u001b[38;5;241m=\u001b[39m\u001b[38;5;241m80\u001b[39m:\n\u001b[1;32m      3\u001b[0m     \u001b[38;5;28mprint\u001b[39m(\u001b[38;5;124m\"\u001b[39m\u001b[38;5;124mexcellent\u001b[39m\u001b[38;5;124m\"\u001b[39m)\n",
      "File \u001b[0;32m/opt/conda/lib/python3.10/site-packages/ipykernel/kernelbase.py:1175\u001b[0m, in \u001b[0;36mKernel.raw_input\u001b[0;34m(self, prompt)\u001b[0m\n\u001b[1;32m   1171\u001b[0m \u001b[38;5;28;01mif\u001b[39;00m \u001b[38;5;129;01mnot\u001b[39;00m \u001b[38;5;28mself\u001b[39m\u001b[38;5;241m.\u001b[39m_allow_stdin:\n\u001b[1;32m   1172\u001b[0m     \u001b[38;5;28;01mraise\u001b[39;00m StdinNotImplementedError(\n\u001b[1;32m   1173\u001b[0m         \u001b[38;5;124m\"\u001b[39m\u001b[38;5;124mraw_input was called, but this frontend does not support input requests.\u001b[39m\u001b[38;5;124m\"\u001b[39m\n\u001b[1;32m   1174\u001b[0m     )\n\u001b[0;32m-> 1175\u001b[0m \u001b[38;5;28;01mreturn\u001b[39;00m \u001b[38;5;28;43mself\u001b[39;49m\u001b[38;5;241;43m.\u001b[39;49m\u001b[43m_input_request\u001b[49m\u001b[43m(\u001b[49m\n\u001b[1;32m   1176\u001b[0m \u001b[43m    \u001b[49m\u001b[38;5;28;43mstr\u001b[39;49m\u001b[43m(\u001b[49m\u001b[43mprompt\u001b[49m\u001b[43m)\u001b[49m\u001b[43m,\u001b[49m\n\u001b[1;32m   1177\u001b[0m \u001b[43m    \u001b[49m\u001b[38;5;28;43mself\u001b[39;49m\u001b[38;5;241;43m.\u001b[39;49m\u001b[43m_parent_ident\u001b[49m\u001b[43m[\u001b[49m\u001b[38;5;124;43m\"\u001b[39;49m\u001b[38;5;124;43mshell\u001b[39;49m\u001b[38;5;124;43m\"\u001b[39;49m\u001b[43m]\u001b[49m\u001b[43m,\u001b[49m\n\u001b[1;32m   1178\u001b[0m \u001b[43m    \u001b[49m\u001b[38;5;28;43mself\u001b[39;49m\u001b[38;5;241;43m.\u001b[39;49m\u001b[43mget_parent\u001b[49m\u001b[43m(\u001b[49m\u001b[38;5;124;43m\"\u001b[39;49m\u001b[38;5;124;43mshell\u001b[39;49m\u001b[38;5;124;43m\"\u001b[39;49m\u001b[43m)\u001b[49m\u001b[43m,\u001b[49m\n\u001b[1;32m   1179\u001b[0m \u001b[43m    \u001b[49m\u001b[43mpassword\u001b[49m\u001b[38;5;241;43m=\u001b[39;49m\u001b[38;5;28;43;01mFalse\u001b[39;49;00m\u001b[43m,\u001b[49m\n\u001b[1;32m   1180\u001b[0m \u001b[43m\u001b[49m\u001b[43m)\u001b[49m\n",
      "File \u001b[0;32m/opt/conda/lib/python3.10/site-packages/ipykernel/kernelbase.py:1217\u001b[0m, in \u001b[0;36mKernel._input_request\u001b[0;34m(self, prompt, ident, parent, password)\u001b[0m\n\u001b[1;32m   1214\u001b[0m             \u001b[38;5;28;01mbreak\u001b[39;00m\n\u001b[1;32m   1215\u001b[0m \u001b[38;5;28;01mexcept\u001b[39;00m \u001b[38;5;167;01mKeyboardInterrupt\u001b[39;00m:\n\u001b[1;32m   1216\u001b[0m     \u001b[38;5;66;03m# re-raise KeyboardInterrupt, to truncate traceback\u001b[39;00m\n\u001b[0;32m-> 1217\u001b[0m     \u001b[38;5;28;01mraise\u001b[39;00m \u001b[38;5;167;01mKeyboardInterrupt\u001b[39;00m(\u001b[38;5;124m\"\u001b[39m\u001b[38;5;124mInterrupted by user\u001b[39m\u001b[38;5;124m\"\u001b[39m) \u001b[38;5;28;01mfrom\u001b[39;00m \u001b[38;5;28mNone\u001b[39m\n\u001b[1;32m   1218\u001b[0m \u001b[38;5;28;01mexcept\u001b[39;00m \u001b[38;5;167;01mException\u001b[39;00m:\n\u001b[1;32m   1219\u001b[0m     \u001b[38;5;28mself\u001b[39m\u001b[38;5;241m.\u001b[39mlog\u001b[38;5;241m.\u001b[39mwarning(\u001b[38;5;124m\"\u001b[39m\u001b[38;5;124mInvalid Message:\u001b[39m\u001b[38;5;124m\"\u001b[39m, exc_info\u001b[38;5;241m=\u001b[39m\u001b[38;5;28;01mTrue\u001b[39;00m)\n",
      "\u001b[0;31mKeyboardInterrupt\u001b[0m: Interrupted by user"
     ]
    }
   ],
   "source": [
    "mark= input(\"enter your mark\")\n",
    "if mark>=80:\n",
    "    print(\"excellent\")\n",
    "elif mark>=60 and marks<=80:\n",
    "    print(\"good\")\n",
    "elif mark>=40 and marks<=60:\n",
    "    print(\"bad\")\n",
    "else:\n",
    "    print(\"kute\")"
   ]
  },
  {
   "cell_type": "code",
   "execution_count": 6,
   "id": "c629381d-c372-4eb3-8c2d-0a21fcbd0c6b",
   "metadata": {},
   "outputs": [
    {
     "ename": "KeyboardInterrupt",
     "evalue": "Interrupted by user",
     "output_type": "error",
     "traceback": [
      "\u001b[0;31m---------------------------------------------------------------------------\u001b[0m",
      "\u001b[0;31mKeyboardInterrupt\u001b[0m                         Traceback (most recent call last)",
      "Cell \u001b[0;32mIn[6], line 1\u001b[0m\n\u001b[0;32m----> 1\u001b[0m price \u001b[38;5;241m=\u001b[39m \u001b[38;5;28mint\u001b[39m(\u001b[38;5;28;43minput\u001b[39;49m\u001b[43m(\u001b[49m\u001b[38;5;124;43m\"\u001b[39;49m\u001b[38;5;124;43menter price\u001b[39;49m\u001b[38;5;124;43m\"\u001b[39;49m\u001b[43m)\u001b[49m)\n\u001b[1;32m      2\u001b[0m \u001b[38;5;28;01mif\u001b[39;00m price\u001b[38;5;241m>\u001b[39m\u001b[38;5;241m1000\u001b[39m:\n\u001b[1;32m      3\u001b[0m     \u001b[38;5;28mprint\u001b[39m(\u001b[38;5;124m\"\u001b[39m\u001b[38;5;124mnot purchased\u001b[39m\u001b[38;5;124m\"\u001b[39m)\n",
      "File \u001b[0;32m/opt/conda/lib/python3.10/site-packages/ipykernel/kernelbase.py:1175\u001b[0m, in \u001b[0;36mKernel.raw_input\u001b[0;34m(self, prompt)\u001b[0m\n\u001b[1;32m   1171\u001b[0m \u001b[38;5;28;01mif\u001b[39;00m \u001b[38;5;129;01mnot\u001b[39;00m \u001b[38;5;28mself\u001b[39m\u001b[38;5;241m.\u001b[39m_allow_stdin:\n\u001b[1;32m   1172\u001b[0m     \u001b[38;5;28;01mraise\u001b[39;00m StdinNotImplementedError(\n\u001b[1;32m   1173\u001b[0m         \u001b[38;5;124m\"\u001b[39m\u001b[38;5;124mraw_input was called, but this frontend does not support input requests.\u001b[39m\u001b[38;5;124m\"\u001b[39m\n\u001b[1;32m   1174\u001b[0m     )\n\u001b[0;32m-> 1175\u001b[0m \u001b[38;5;28;01mreturn\u001b[39;00m \u001b[38;5;28;43mself\u001b[39;49m\u001b[38;5;241;43m.\u001b[39;49m\u001b[43m_input_request\u001b[49m\u001b[43m(\u001b[49m\n\u001b[1;32m   1176\u001b[0m \u001b[43m    \u001b[49m\u001b[38;5;28;43mstr\u001b[39;49m\u001b[43m(\u001b[49m\u001b[43mprompt\u001b[49m\u001b[43m)\u001b[49m\u001b[43m,\u001b[49m\n\u001b[1;32m   1177\u001b[0m \u001b[43m    \u001b[49m\u001b[38;5;28;43mself\u001b[39;49m\u001b[38;5;241;43m.\u001b[39;49m\u001b[43m_parent_ident\u001b[49m\u001b[43m[\u001b[49m\u001b[38;5;124;43m\"\u001b[39;49m\u001b[38;5;124;43mshell\u001b[39;49m\u001b[38;5;124;43m\"\u001b[39;49m\u001b[43m]\u001b[49m\u001b[43m,\u001b[49m\n\u001b[1;32m   1178\u001b[0m \u001b[43m    \u001b[49m\u001b[38;5;28;43mself\u001b[39;49m\u001b[38;5;241;43m.\u001b[39;49m\u001b[43mget_parent\u001b[49m\u001b[43m(\u001b[49m\u001b[38;5;124;43m\"\u001b[39;49m\u001b[38;5;124;43mshell\u001b[39;49m\u001b[38;5;124;43m\"\u001b[39;49m\u001b[43m)\u001b[49m\u001b[43m,\u001b[49m\n\u001b[1;32m   1179\u001b[0m \u001b[43m    \u001b[49m\u001b[43mpassword\u001b[49m\u001b[38;5;241;43m=\u001b[39;49m\u001b[38;5;28;43;01mFalse\u001b[39;49;00m\u001b[43m,\u001b[49m\n\u001b[1;32m   1180\u001b[0m \u001b[43m\u001b[49m\u001b[43m)\u001b[49m\n",
      "File \u001b[0;32m/opt/conda/lib/python3.10/site-packages/ipykernel/kernelbase.py:1217\u001b[0m, in \u001b[0;36mKernel._input_request\u001b[0;34m(self, prompt, ident, parent, password)\u001b[0m\n\u001b[1;32m   1214\u001b[0m             \u001b[38;5;28;01mbreak\u001b[39;00m\n\u001b[1;32m   1215\u001b[0m \u001b[38;5;28;01mexcept\u001b[39;00m \u001b[38;5;167;01mKeyboardInterrupt\u001b[39;00m:\n\u001b[1;32m   1216\u001b[0m     \u001b[38;5;66;03m# re-raise KeyboardInterrupt, to truncate traceback\u001b[39;00m\n\u001b[0;32m-> 1217\u001b[0m     \u001b[38;5;28;01mraise\u001b[39;00m \u001b[38;5;167;01mKeyboardInterrupt\u001b[39;00m(\u001b[38;5;124m\"\u001b[39m\u001b[38;5;124mInterrupted by user\u001b[39m\u001b[38;5;124m\"\u001b[39m) \u001b[38;5;28;01mfrom\u001b[39;00m \u001b[38;5;28mNone\u001b[39m\n\u001b[1;32m   1218\u001b[0m \u001b[38;5;28;01mexcept\u001b[39;00m \u001b[38;5;167;01mException\u001b[39;00m:\n\u001b[1;32m   1219\u001b[0m     \u001b[38;5;28mself\u001b[39m\u001b[38;5;241m.\u001b[39mlog\u001b[38;5;241m.\u001b[39mwarning(\u001b[38;5;124m\"\u001b[39m\u001b[38;5;124mInvalid Message:\u001b[39m\u001b[38;5;124m\"\u001b[39m, exc_info\u001b[38;5;241m=\u001b[39m\u001b[38;5;28;01mTrue\u001b[39;00m)\n",
      "\u001b[0;31mKeyboardInterrupt\u001b[0m: Interrupted by user"
     ]
    }
   ],
   "source": [
    "price = int(input(\"enter price\"))\n",
    "if price>1000:\n",
    "    print(\"not purchased\")\n",
    "else:\n",
    "    print(\"purchased\")"
   ]
  },
  {
   "cell_type": "code",
   "execution_count": 7,
   "id": "6b70b5d8-b1d5-4cfb-9da8-58a0e3dbefd4",
   "metadata": {},
   "outputs": [],
   "source": [
    "l=[1,2,3,4,5,6,7]"
   ]
  },
  {
   "cell_type": "code",
   "execution_count": 8,
   "id": "8a8c2fa0-e768-4c82-a0cf-de1ea459d4b0",
   "metadata": {},
   "outputs": [
    {
     "data": {
      "text/plain": [
       "2"
      ]
     },
     "execution_count": 8,
     "metadata": {},
     "output_type": "execute_result"
    }
   ],
   "source": [
    "l[0]+1"
   ]
  },
  {
   "cell_type": "code",
   "execution_count": 10,
   "id": "51f169d4-ecff-4dd8-91b1-2fa7dcdc6b89",
   "metadata": {},
   "outputs": [],
   "source": [
    "l1=[]"
   ]
  },
  {
   "cell_type": "code",
   "execution_count": 12,
   "id": "dfa1f51c-c94f-411e-b183-1bf4c593903d",
   "metadata": {},
   "outputs": [],
   "source": [
    "l1.append(l[0]+1)"
   ]
  },
  {
   "cell_type": "code",
   "execution_count": 13,
   "id": "0905fe37-9974-4bb7-b400-14f6acc3aad3",
   "metadata": {},
   "outputs": [
    {
     "data": {
      "text/plain": [
       "[2]"
      ]
     },
     "execution_count": 13,
     "metadata": {},
     "output_type": "execute_result"
    }
   ],
   "source": [
    "l1"
   ]
  },
  {
   "cell_type": "code",
   "execution_count": 15,
   "id": "e6c6b6b9-c80a-4ebd-bc86-d4083f61dd2b",
   "metadata": {},
   "outputs": [
    {
     "name": "stdout",
     "output_type": "stream",
     "text": [
      "1\n",
      "2\n",
      "3\n",
      "4\n",
      "5\n",
      "6\n",
      "7\n"
     ]
    }
   ],
   "source": [
    "for i in l:\n",
    "    print(i)"
   ]
  },
  {
   "cell_type": "code",
   "execution_count": 18,
   "id": "9eb7034b-31ce-44c3-b6a5-d153b3f600d3",
   "metadata": {},
   "outputs": [
    {
     "name": "stdout",
     "output_type": "stream",
     "text": [
      "2\n",
      "3\n",
      "4\n",
      "5\n",
      "6\n",
      "7\n",
      "8\n"
     ]
    },
    {
     "data": {
      "text/plain": [
       "[2, 3, 4, 5, 6, 7, 8]"
      ]
     },
     "execution_count": 18,
     "metadata": {},
     "output_type": "execute_result"
    }
   ],
   "source": [
    "l1=[]\n",
    "for i in l:\n",
    "    print(i+1)\n",
    "    l1.append(i+1)\n",
    "l1    "
   ]
  },
  {
   "cell_type": "code",
   "execution_count": 19,
   "id": "9b42e950-a311-4a60-a526-5131cc1e6606",
   "metadata": {},
   "outputs": [],
   "source": [
    "l=[\"ankit\",\"kumar\",\"pwskills\",\"course\"]"
   ]
  },
  {
   "cell_type": "code",
   "execution_count": 21,
   "id": "d5dd5d8a-a51c-49ab-9acb-8c10c6385798",
   "metadata": {},
   "outputs": [
    {
     "name": "stdout",
     "output_type": "stream",
     "text": [
      "ankit\n",
      "kumar\n",
      "pwskills\n",
      "course\n"
     ]
    }
   ],
   "source": [
    "l1=[]\n",
    "for i in l:\n",
    "    print(i)\n",
    "    l1.append(i)"
   ]
  },
  {
   "cell_type": "code",
   "execution_count": 23,
   "id": "054f8b42-de14-421d-b288-3dfb5defcd8d",
   "metadata": {},
   "outputs": [],
   "source": [
    "l=[1,2,3,4,5,6,\"am=nkit\",233,45,\"abx\"]"
   ]
  },
  {
   "cell_type": "code",
   "execution_count": 25,
   "id": "c562a01b-94f9-42e6-b034-fb3f39e2384b",
   "metadata": {},
   "outputs": [],
   "source": [
    "l1_nums=[]\n",
    "l2_str=[]\n",
    "for i in l:\n",
    "    if type(i) == int or type(i)== float:\n",
    "        l1_nums.append(i)\n",
    "    else:\n",
    "        l2_str.append(i)"
   ]
  },
  {
   "cell_type": "code",
   "execution_count": 26,
   "id": "55430006-c037-44c0-a79f-6ac81204da71",
   "metadata": {},
   "outputs": [
    {
     "data": {
      "text/plain": [
       "[1, 2, 3, 4, 5, 6, 233, 45]"
      ]
     },
     "execution_count": 26,
     "metadata": {},
     "output_type": "execute_result"
    }
   ],
   "source": [
    "l1_nums"
   ]
  },
  {
   "cell_type": "code",
   "execution_count": 27,
   "id": "a643cee9-a423-44a6-ac16-18e46e86c659",
   "metadata": {},
   "outputs": [
    {
     "data": {
      "text/plain": [
       "['am=nkit', 'abx']"
      ]
     },
     "execution_count": 27,
     "metadata": {},
     "output_type": "execute_result"
    }
   ],
   "source": [
    "l2_str"
   ]
  },
  {
   "cell_type": "code",
   "execution_count": null,
   "id": "a01f3569-249d-490f-b2e3-f20bcc222764",
   "metadata": {},
   "outputs": [],
   "source": []
  }
 ],
 "metadata": {
  "kernelspec": {
   "display_name": "Python 3 (ipykernel)",
   "language": "python",
   "name": "python3"
  },
  "language_info": {
   "codemirror_mode": {
    "name": "ipython",
    "version": 3
   },
   "file_extension": ".py",
   "mimetype": "text/x-python",
   "name": "python",
   "nbconvert_exporter": "python",
   "pygments_lexer": "ipython3",
   "version": "3.10.8"
  }
 },
 "nbformat": 4,
 "nbformat_minor": 5
}
